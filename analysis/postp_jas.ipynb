{
 "cells": [
  {
   "cell_type": "code",
   "execution_count": 1,
   "id": "dce47ea3-9a98-4d3d-a13c-2765ceabcc95",
   "metadata": {},
   "outputs": [],
   "source": [
    "import numpy as np\n",
    "import xarray as xr\n",
    "import matplotlib\n",
    "import matplotlib.pyplot as plt\n",
    "from scipy import stats\n",
    "from utils import *\n",
    "import os"
   ]
  },
  {
   "cell_type": "code",
   "execution_count": 2,
   "id": "97c05661-2394-4e26-8515-183ed53e1a00",
   "metadata": {},
   "outputs": [],
   "source": [
    "client=get_cluster()"
   ]
  },
  {
   "cell_type": "code",
   "execution_count": null,
   "id": "5f8c35d5-1e72-4b5c-91cc-7278b9fcaa34",
   "metadata": {},
   "outputs": [],
   "source": []
  },
  {
   "cell_type": "code",
   "execution_count": 3,
   "id": "cea55f78-0965-4585-b724-06b04916e9d0",
   "metadata": {},
   "outputs": [],
   "source": [
    "dvs=['TSA','RH2M','QSOIL','QVEGE','QVEGT','RAIN','SNOW','GPP','NBP','SOILWATER_10CM','TWS','FSDS','TLAI','QRUNOFF']"
   ]
  },
  {
   "cell_type": "code",
   "execution_count": 21,
   "id": "75199215-f897-482c-80ec-b4051aaa5aee",
   "metadata": {},
   "outputs": [],
   "source": [
    "dsws=[]\n",
    "for yr in ['1850','2020','2090']:\n",
    "    ds=get_ds(yr+'_era5_i04',dvs)\n",
    "    la=ds.la*get_foco(ds)\n",
    "    dsw=xr.Dataset()\n",
    "    for v in ds.data_vars:\n",
    "        if v!='la':\n",
    "            dsw[v]=get_jas(ds[v],la)\n",
    "    dsws.append(dsw)"
   ]
  },
  {
   "cell_type": "code",
   "execution_count": 22,
   "id": "78af5760-3c27-41ad-92b5-3e86f28f862f",
   "metadata": {},
   "outputs": [],
   "source": [
    "ds=xr.concat(dsws,dim='year')\n",
    "#"
   ]
  },
  {
   "cell_type": "code",
   "execution_count": 24,
   "id": "ccad4060-27d9-49e3-a196-70749161eb67",
   "metadata": {},
   "outputs": [],
   "source": [
    "#read in the constrained circulation sw10cm data\n",
    "sw0s=[]\n",
    "for yr in [1850,2020,2090]:\n",
    "    files=get_files(str(yr)+'_era5_i04',tape='h1')\n",
    "    files=[f[0] for f in files]\n",
    "    tmp=xr.open_dataset(files[0])\n",
    "    la=get_foco(tmp)*tmp.area*tmp.landfrac\n",
    "    def pp(ds):\n",
    "        return gmean(ds.SOILWATER_10CM,la)\n",
    "    sw0=xr.open_mfdataset(files,combine='nested',concat_dim='ens',preprocess=pp,parallel=True).isel(time=0)\n",
    "    sw0s.append(sw0)"
   ]
  },
  {
   "cell_type": "code",
   "execution_count": 25,
   "id": "fd5cf07d-fa2c-4b9c-b0e3-2ba21f46abbc",
   "metadata": {},
   "outputs": [],
   "source": [
    "sw4=xr.concat(sw0s,dim='time')\n",
    "sw4['year']=sw4['time.year']"
   ]
  },
  {
   "cell_type": "code",
   "execution_count": 26,
   "id": "49845ffd-5802-462f-868e-7294a017be50",
   "metadata": {},
   "outputs": [],
   "source": [
    "ds['SW4']=da.swap_dims({'time':'year'})"
   ]
  },
  {
   "cell_type": "code",
   "execution_count": 28,
   "id": "7b121883-cd35-4029-99d0-f72864f622e4",
   "metadata": {},
   "outputs": [],
   "source": [
    "ds.to_netcdf('/glade/derecho/scratch/djk2120/postp/jas/cce_era5_i04.nc')"
   ]
  },
  {
   "cell_type": "code",
   "execution_count": null,
   "id": "3906af4a-c325-4052-ac46-d721cf7894c5",
   "metadata": {},
   "outputs": [],
   "source": []
  },
  {
   "cell_type": "markdown",
   "id": "f930f24f-083f-42fb-80c5-27f7e9dab585",
   "metadata": {},
   "source": [
    "### add some extra variables"
   ]
  },
  {
   "cell_type": "code",
   "execution_count": 4,
   "id": "342fb29b-f71e-4054-9333-286299cb52b6",
   "metadata": {},
   "outputs": [],
   "source": [
    "fout='/glade/derecho/scratch/djk2120/postp/jas/cce_era5_i04.nc'\n",
    "dsout=xr.open_dataset(fout)"
   ]
  },
  {
   "cell_type": "code",
   "execution_count": 5,
   "id": "1ece804f-a21e-435f-8557-fb3df79abd19",
   "metadata": {},
   "outputs": [],
   "source": [
    "dvs=['TREFHTMX']\n",
    "yrs=[1850,2020,2090]\n",
    "dsets=[get_ds(str(yr)+'_era5_i04',dvs,cmp='/atm/',tape='h1') for yr in yrs]\n",
    "ds=xr.concat(dsets,dim='time')\n",
    "la=np.cos(np.deg2rad(ds.lat))*get_foco(ds)\n",
    "for v in dvs:\n",
    "    ixt=(ds['time.month']>=7)&(ds['time.month']<=9)\n",
    "    dsout[v]=gmean(ds[v].isel(time=ixt).groupby('time.year').mean(),la).T\n",
    "os.remove(fout)\n",
    "dsout.to_netcdf(fout)"
   ]
  },
  {
   "cell_type": "code",
   "execution_count": 5,
   "id": "ff7800b4-94e1-4198-a7fa-c3c27b374166",
   "metadata": {},
   "outputs": [],
   "source": [
    "dvs=['EFLX_LH_TOT','FSH']\n",
    "yrs=[1850,2020,2090]\n",
    "dsets=[get_ds(str(yr)+'_era5_i04',dvs) for yr in yrs]\n",
    "ds=xr.concat(dsets,dim='time')\n",
    "la=np.cos(np.deg2rad(ds.lat))*get_foco(ds)\n",
    "for v in dvs:\n",
    "    dsout[v]=get_jas(ds[v],la)\n",
    "os.remove(fout)\n",
    "dsout.to_netcdf(fout)"
   ]
  },
  {
   "cell_type": "code",
   "execution_count": 5,
   "id": "5684fd16-7ce0-4108-9d16-870fdfcf8c08",
   "metadata": {},
   "outputs": [],
   "source": [
    "dvs=['PRECC','PRECL']\n",
    "yrs=[1850,2020,2090]\n",
    "dsets=[get_ds(str(yr)+'_era5_i04',dvs,cmp='/atm/') for yr in yrs]\n",
    "ds=xr.concat(dsets,dim='time')\n",
    "la=np.cos(np.deg2rad(ds.lat))*get_foco(ds)\n",
    "for v in dvs:\n",
    "    dsout[v]=get_jas(ds[v],la)\n",
    "os.remove(fout)\n",
    "dsout.to_netcdf(fout)"
   ]
  },
  {
   "cell_type": "code",
   "execution_count": 16,
   "id": "1c3ea653-32d5-46c1-8600-7a75fbd21fa7",
   "metadata": {},
   "outputs": [],
   "source": []
  },
  {
   "cell_type": "code",
   "execution_count": 20,
   "id": "5e1b5be7-09d5-40e0-a4de-421d9664b009",
   "metadata": {},
   "outputs": [],
   "source": []
  },
  {
   "cell_type": "code",
   "execution_count": 29,
   "id": "3009bcef-f098-48d2-a262-b9e986c0af29",
   "metadata": {},
   "outputs": [
    {
     "name": "stdout",
     "output_type": "stream",
     "text": [
      "1850\n",
      "1860\n",
      "1870\n",
      "1880\n",
      "1890\n",
      "1900\n",
      "1910\n",
      "1920\n",
      "1930\n",
      "1940\n",
      "1950\n",
      "1960\n",
      "1970\n",
      "1980\n",
      "1990\n",
      "2000\n",
      "2010\n",
      "2020\n",
      "2030\n",
      "2040\n",
      "2050\n",
      "2060\n",
      "2070\n",
      "2080\n",
      "2090\n",
      "2100\n"
     ]
    }
   ],
   "source": [
    "d='/glade/derecho/scratch/djk2120/postp/jas/'\n",
    "v='TREFHTMX'\n",
    "for yr in range(1850,2110,10):\n",
    "    print(yr)\n",
    "    f=d+v+'.'+str(yr)+'.nc'\n",
    "    tmp=xr.open_dataset(f)\n",
    "    tmp[v]=tmp[v].T\n",
    "    os.remove(f)\n",
    "    tmp.to_netcdf(f)"
   ]
  },
  {
   "cell_type": "code",
   "execution_count": 27,
   "id": "77030339-328b-4752-8b67-e4e1b84a8434",
   "metadata": {},
   "outputs": [],
   "source": []
  },
  {
   "cell_type": "code",
   "execution_count": null,
   "id": "6b0a9688-c0c2-4b30-9b1a-646034cb0253",
   "metadata": {},
   "outputs": [],
   "source": []
  }
 ],
 "metadata": {
  "kernelspec": {
   "display_name": "Python [conda env:miniconda3-ppe-py]",
   "language": "python",
   "name": "conda-env-miniconda3-ppe-py-py"
  },
  "language_info": {
   "codemirror_mode": {
    "name": "ipython",
    "version": 3
   },
   "file_extension": ".py",
   "mimetype": "text/x-python",
   "name": "python",
   "nbconvert_exporter": "python",
   "pygments_lexer": "ipython3",
   "version": "3.11.6"
  }
 },
 "nbformat": 4,
 "nbformat_minor": 5
}
